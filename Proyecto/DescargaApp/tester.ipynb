{
 "cells": [
  {
   "cell_type": "markdown",
   "id": "7c5408ac",
   "metadata": {},
   "source": [
    "## Iniciar sesion"
   ]
  },
  {
   "cell_type": "code",
   "execution_count": null,
   "id": "38e42032",
   "metadata": {
    "vscode": {
     "languageId": "plaintext"
    }
   },
   "outputs": [],
   "source": []
  }
 ],
 "metadata": {
  "language_info": {
   "name": "python"
  }
 },
 "nbformat": 4,
 "nbformat_minor": 5
}
